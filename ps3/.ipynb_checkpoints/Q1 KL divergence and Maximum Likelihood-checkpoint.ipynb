{
 "cells": [
  {
   "cell_type": "markdown",
   "metadata": {},
   "source": [
    "# 1a\n",
    "\n",
    "\\begin{align}\n",
    "D_{KL}(P\\|Q) & = \\sum_x P(x)\\log \\frac{P(x)}{Q(x)} \\\\\n",
    "& = \\mathbb{E}_P [\\log \\frac{P(x)}{Q(x)}] \\\\\n",
    "& = \\mathbb{E}_P [-\\log \\frac{Q(x)}{P(x)}] \\\\\n",
    "& \\geq -\\log(\\mathbb{E}_P [\\frac{Q(x)}{P(x)}]) \\quad \\text{$-\\log$ is convex and by Jensen inequality}\\\\\n",
    "& = -\\log(1) \\quad \\quad \\text{as $\\mathbb{E}_P \\frac{Q(x)}{P(x)} = \\sum_x P(x)\\frac{Q(x)}{P(x)} = \\sum_x Q(x) =1$}\\\\\n",
    "& =0\n",
    "\\end{align}\n",
    "\n",
    "To prove the second part of the question. We need to realized to obtain the lower bound above, $\\log \\frac{Q(x)}{P(x)} = \\mathbb{E}_P [\\frac{Q(x)}{P(x)}] = 1$ this implies that to obtain the lower bound of 0, $P(X)=Q(X)$ for all values of x."
   ]
  },
  {
   "cell_type": "markdown",
   "metadata": {},
   "source": [
    "# 1b\n",
    "\n",
    "\\begin{align}\n",
    "D_{KL}(P(X,Y)\\|Q(X,Y)) & = \\sum_X \\sum_Y P(X,Y) \\log \\frac{P(X,Y)}{Q(X,Y)}\\\\\n",
    "& = \\sum_X \\sum_Y P(X,Y) \\log \\frac{P(X)\\cdot P(Y|X)}{Q(X)\\cdot Q(Y|X)} \\quad \\quad\\text{Definition of conditional probabilities} \\\\\n",
    "& = \\sum_X \\sum_Y P(X,Y) (\\log \\frac{P(X)}{Q(X)} + \\log \\frac{P(Y|X)}{Q(Y|X)}) \\quad \\text{log of products is sum of logs}\\\\\n",
    "& = \\sum_X \\log \\frac{P(X)}{Q(X)} \\sum_Y P(X,Y) + \\sum_X \\sum_Y P(Y|X) P(X) \\log \\frac{P(Y|X)}{Q(Y|X)})\\\\\n",
    "& = \\sum_X \\log \\frac{P(X)}{Q(X)} P(X) + \\sum_X P(X)\\sum_Y P(Y|X)  \\log \\frac{P(Y|X)}{Q(Y|X)}) \\quad\\quad \\text{as $\\sum_Y P(X,Y) = P(X)$}\\\\\n",
    "& = D_{KL}(P(X)\\|Q(X)) + D_{KL}(P(Y|X)\\|Q(Y|X))\n",
    "\\end{align} "
   ]
  },
  {
   "cell_type": "markdown",
   "metadata": {},
   "source": [
    "# 1c\n",
    "\n",
    "\\begin{align}\n",
    "\\arg\\min_\\theta D_{KL}(\\hat{P}\\|P_\\theta) &= \\arg\\min_\\theta \\sum_x \\hat{P}(x)\\log \\hat{P}(x) - \\hat{P}(x)\\log \\hat{P}_\\theta(x)\\\\\n",
    "& = \\arg\\max_\\theta \\sum_x\\hat{P}(x)\\log \\hat{P}_\\theta(x)\\quad \\quad \\text{(first term is a independent of $\\theta$, changing sign will change min to max)}\\\\\n",
    "& = \\arg\\max_\\theta \\sum_x \\frac{1}{n}\\sum_{i=1}^{n} 1\\{x^{(i)}=x\\}\\log \\hat{P}_\\theta(x) \\\\\n",
    "& = \\arg\\max_\\theta \\sum_{i=1}^{n} \\log \\hat{P}_\\theta(x^{(i)}) \\quad \\text{($\\frac{1}{n}$ can be removed as it is a positive constant.)}\n",
    "\\end{align}\n",
    "\n",
    "In the last equality, we can justify the switching of summation sign as both $\\Sigma$ are finite. After switching, each indicator function is true only once, when $x=x^{(i)}$. So we can simplify that expression. The last statement is just the definition of maximum loglikelihood"
   ]
  },
  {
   "cell_type": "code",
   "execution_count": null,
   "metadata": {},
   "outputs": [],
   "source": []
  },
  {
   "cell_type": "code",
   "execution_count": null,
   "metadata": {},
   "outputs": [
    {
     "data": {
      "application/javascript": [
       "window.require && require([\"base/js/namespace\"],function(Jupyter){Jupyter.notebook.save_checkpoint()})"
      ],
      "text/plain": [
       "<IPython.core.display.Javascript object>"
      ]
     },
     "metadata": {},
     "output_type": "display_data"
    }
   ],
   "source": [
    "import jovian\n",
    "jovian.commit()"
   ]
  },
  {
   "cell_type": "code",
   "execution_count": null,
   "metadata": {},
   "outputs": [],
   "source": []
  }
 ],
 "metadata": {
  "kernelspec": {
   "display_name": "Python 3",
   "language": "python",
   "name": "python3"
  },
  "language_info": {
   "codemirror_mode": {
    "name": "ipython",
    "version": 3
   },
   "file_extension": ".py",
   "mimetype": "text/x-python",
   "name": "python",
   "nbconvert_exporter": "python",
   "pygments_lexer": "ipython3",
   "version": "3.8.5"
  },
  "toc": {
   "base_numbering": 1,
   "nav_menu": {},
   "number_sections": true,
   "sideBar": true,
   "skip_h1_title": false,
   "title_cell": "Table of Contents",
   "title_sidebar": "Contents",
   "toc_cell": false,
   "toc_position": {},
   "toc_section_display": true,
   "toc_window_display": false
  }
 },
 "nbformat": 4,
 "nbformat_minor": 4
}
