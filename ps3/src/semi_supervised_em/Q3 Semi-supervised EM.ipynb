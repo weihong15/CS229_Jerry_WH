{
 "cells": [
  {
   "cell_type": "markdown",
   "metadata": {},
   "source": [
    "# 3a\n",
    "\n",
    "We first try to bond $\\ell_{\\text{unsup}}$\n",
    "\n",
    "\\begin{align*}\n",
    "    \\ell_{\\text{unsup}}(\\theta) &= \\sum_{i=1}^n \\log p(x^{(i)};\\theta) \\\\\n",
    "    &= \\sum_{i=1}^n \\log \\sum_{z^{(i)}} p(x^{(i)},z^{(i)};\\theta)\\\\\n",
    "    &= \\sum_{i=1}^n \\log \\sum_{z^{(i)}} Q(z^{(i)})\\frac{p(x^{(i)},z^{(i)};\\theta)}{Q(z^{(i)})}\\\\\n",
    "    &\\geq \\sum_{i=1}^n \\sum_{z^{(i)}}Q(z^{(i)})\\log \\frac{p(x^{(i)},z^{(i)};\\theta)}{Q(z^{(i)})}\n",
    "\\end{align*}\n",
    "\n",
    "The last step is from Jensen inequality. since $\\log$ is a concave function. (We can show the second derivative is always negative). Look at notes 8 page 4 for further derivation.\n",
    "\n",
    "\\begin{align}\n",
    "\\ell_\\text{semi-sup}(\\theta^{(t+1)}) &= \\ell_\\text{unsup}(\\theta^{(t+1)}) + \\alpha \\ell_\\text{sup}(\\theta^{(t+1)}) \\quad \\text{Definition}\\\\\n",
    "& \\geq \\sum_{i=1}^n \\sum_{z^{(i)}}Q(z^{(i)})\\log \\frac{p(x^{(i)},z^{(i)};\\theta^{(t+1)})}{Q(z^{(i)})} + \\alpha  \\sum_{i=1}^{\\tilde{n}} \\log p(\\tilde{x}^{(i)},\\tilde{z}^{(i)};\\theta^{(t+1)})  \\\\\n",
    "& \\geq \\sum_{i=1}^n \\sum_{z^{(i)}}Q(z^{(i)})\\log \\frac{p(x^{(i)},z^{(i)};\\theta^{(t)})}{Q(z^{(i)})} + \\alpha  \\sum_{i=1}^{\\tilde{n}} \\log p(\\tilde{x}^{(i)},\\tilde{z}^{(i)};\\theta^{(t)})\\\\\n",
    "& = \\ell_\\text{unsup}(\\theta^{(t)}) + \\alpha \\ell_\\text{sup}(\\theta^{(t)})\\\\\n",
    "& = \\ell_\\text{semi-sup}(\\theta^{(t)})\n",
    "\\end{align}"
   ]
  },
  {
   "cell_type": "markdown",
   "metadata": {},
   "source": [
    "the first inequality(second line) is due to the results we have shown above   \n",
    "the second inequality(third line) is due to $\\theta^{(t+1)}$ is a maximizer of the function, it will be greater than all other arguement, including $\\theta^{(t)}$  \n",
    "The fourth line is due to definition"
   ]
  },
  {
   "cell_type": "markdown",
   "metadata": {},
   "source": [
    "# 3b, 3c\n",
    "\n",
    "Please see last few pages for handwritten notes\n"
   ]
  },
  {
   "cell_type": "markdown",
   "metadata": {},
   "source": [
    "# 3d\n",
    "\n",
    "iteration : 156, ll = -1801.8515200297652\n",
    "pred 0\n",
    "![original image](pred_0.png)\n",
    "\n",
    "iteration : 97, ll = -1801.7783773532997\n",
    "pred 1\n",
    "![ssmall image](pred_1.png)\n",
    "\n",
    "iteration : 81, ll = -1741.6222363943202\n",
    "pred 2\n",
    "![updated image](pred_2.png)"
   ]
  },
  {
   "cell_type": "markdown",
   "metadata": {},
   "source": [
    "# 3e\n",
    "\n",
    "semi supervised iteration : 28, ll = -2326.4887351530033\n",
    "pred 0 ss\n",
    "![original image](pred_ss_0.png)\n",
    "\n",
    "semi supervised iteration : 26, ll = -2326.488349717413\n",
    "pred 0 ss\n",
    "![original image](pred_ss_1.png)\n",
    "\n",
    "semi supervised iteration : 23, ll = -2326.482169708923\n",
    "pred 0 ss\n",
    "![original image](pred_ss_2.png)\n"
   ]
  },
  {
   "cell_type": "markdown",
   "metadata": {},
   "source": [
    "# 3f\n",
    "\n",
    "Num of iterations: normal EM takes 80-156 iterations to converge while semisupervised EM takes <30 iterations to converge\n",
    "\n",
    "Stability: Semi supervised is definitely more stable, the starting ll of normal EM is significantly lower compared to semiseupervised EM\n",
    "\n",
    "Quality of assignments: Semi supervised has a higher quality of assignment. We can see from prediction 0, what is predicted from unsupervised is not really accurate, especially the red dots. the red dots doesn't look gaussian at all. but semi supervised prediction looks gaussian."
   ]
  },
  {
   "cell_type": "code",
   "execution_count": 81,
   "metadata": {},
   "outputs": [
    {
     "data": {
      "application/javascript": [
       "window.require && require([\"base/js/namespace\"],function(Jupyter){Jupyter.notebook.save_checkpoint()})"
      ],
      "text/plain": [
       "<IPython.core.display.Javascript object>"
      ]
     },
     "metadata": {},
     "output_type": "display_data"
    },
    {
     "name": "stdout",
     "output_type": "stream",
     "text": [
      "[jovian] Committed successfully! https://jovian.ai/weihong15/q3-semi-supervised-em\u001b[0m\n"
     ]
    },
    {
     "data": {
      "text/plain": [
       "'https://jovian.ai/weihong15/q3-semi-supervised-em'"
      ]
     },
     "execution_count": 81,
     "metadata": {},
     "output_type": "execute_result"
    }
   ],
   "source": [
    "import jovian\n",
    "jovian.commit()"
   ]
  },
  {
   "cell_type": "code",
   "execution_count": null,
   "metadata": {},
   "outputs": [],
   "source": []
  }
 ],
 "metadata": {
  "kernelspec": {
   "display_name": "Python 3",
   "language": "python",
   "name": "python3"
  },
  "language_info": {
   "codemirror_mode": {
    "name": "ipython",
    "version": 3
   },
   "file_extension": ".py",
   "mimetype": "text/x-python",
   "name": "python",
   "nbconvert_exporter": "python",
   "pygments_lexer": "ipython3",
   "version": "3.8.5"
  },
  "toc": {
   "base_numbering": 1,
   "nav_menu": {},
   "number_sections": true,
   "sideBar": true,
   "skip_h1_title": false,
   "title_cell": "Table of Contents",
   "title_sidebar": "Contents",
   "toc_cell": false,
   "toc_position": {},
   "toc_section_display": true,
   "toc_window_display": false
  }
 },
 "nbformat": 4,
 "nbformat_minor": 4
}
