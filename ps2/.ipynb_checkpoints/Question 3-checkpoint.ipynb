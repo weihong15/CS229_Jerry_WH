{
 "cells": [
  {
   "cell_type": "markdown",
   "metadata": {},
   "source": [
    "## 1a \n",
    "\n",
    "Assuming $p(\\theta)=p(\\theta|x)$.\n",
    "\n",
    "$$ \\theta_{MAP} = \\arg \\max_\\theta p(\\theta|x,y) = \\arg \\max_\\theta \\frac{p(y|x,\\theta)\\cdot p(\\theta|x)\\cdot p(x)}{p(x,y)} = \\arg \\max\\theta p(y|x,\\theta)\\cdot p(\\theta|x) = \\arg \\max_\\theta p(y|x,\\theta)\\cdot p(\\theta)$$\n",
    "\n",
    "where the first equality is due to bayes rule, we take away function that's independent of $\\theta$ and last equiality is due to our assumption"
   ]
  },
  {
   "cell_type": "markdown",
   "metadata": {},
   "source": [
    "## 3b\n",
    "\n",
    "From 3a\n",
    "\n",
    "$$\\theta_{MAP} = \\arg \\max_\\theta [ \\log{p(y|x,\\theta)} + \\log{p(\\theta)}] = - \\arg \\min_\\theta [ -\\log{p(y|x,\\theta)} - \\log{p(\\theta)}]$$\n",
    "\n",
    "We are given that $\\theta \\sim \\mathcal{N}(0,\\eta^2 I)$, so $p(\\theta) = (2\\pi)^{-\\frac{d}{2}}\\eta^{-0.5}\\exp{(-\\frac{1}{2\\eta^2}\\theta^T\\theta)}= (2\\pi)^{-\\frac{d}{2}}\\eta^{-0.5}\\exp{(-\\frac{1}{2\\eta^2}||\\theta||_2^2})$\n",
    "\n",
    "$$ \\log{p(\\theta)} = \\log{((2\\pi)^{-\\frac{d}{2}}\\eta^{-0.5})} -\\frac{1}{2\\eta^2} \\cdot ||\\theta||_2^2$$\n",
    "since the first term is independent of $\\theta$ and the coefficient of $||\\theta||_2^2$ is also independent of $\\theta$\n",
    "\n",
    "$$ \\theta_{MAP} = - \\arg \\min_\\theta [ -\\log{p(y|x,\\theta)} - \\log{p(\\theta)}] = - \\arg \\min_\\theta [ -\\log{p(y|x,\\theta)} +\\lambda ||\\theta||_2^2 ] $$\n",
    "\n",
    "Where $\\lambda = \\frac{1}{2\\eta^2}$"
   ]
  },
  {
   "cell_type": "markdown",
   "metadata": {},
   "source": [
    "## 3c\n",
    "\n",
    "From the question $y\\mid x,\\theta \\sim \\mathcal{N}(\\theta^Tx,\\sigma^2)$, so the dsitribution $p(y\\mid x,\\theta) = \\frac{1}{\\sqrt{2\\pi}\\sigma}\\exp{(-\\frac{1}{2\\sigma^2}(y-\\theta^Tx)^2)}$\n",
    "\n",
    "So we now need to solve the equation\n",
    "\n",
    "$$\\arg \\min_\\theta [ -\\log{p(y|x,\\theta)} +\\lambda ||\\theta||_2^2 ] = \\arg \\min_\\theta [\\frac{1}{2\\sigma^2}(y-\\theta^Tx)^2)+\\lambda ||\\theta||_2^2 ]$$\n",
    "\n",
    "changing the equation into matrix form, we have\n",
    "\n",
    "$$ \\arg \\min_\\theta [\\frac{1}{2\\sigma^2}||Y-X\\theta||_2^2+\\lambda ||\\theta||_2^2 ]$$\n",
    "\n",
    "To solve the above, we differnetiate the above wrt $\\theta$ and equate to 0\n",
    "\n",
    "$$\\frac{1}{\\sigma^2}-X^T(Y-X\\theta) +2\\lambda\\theta = 0$$\n",
    "\n",
    "Solving for $\\theta$ and substituiting $\\lambda = \\frac{1}{2\\eta^2}$ we will get\n",
    "\n",
    "$$\\theta_{MAP} = (X^TX+\\frac{\\sigma^2}{\\eta^2}I_d)^{-1}X^TY$$"
   ]
  },
  {
   "cell_type": "markdown",
   "metadata": {},
   "source": [
    "## 3d\n",
    "\n",
    "For this part, everything remains the same except for the prior. Since $\\theta_i$ are all i.i.d. it will have the following pdf. $p(\\theta) = (2b)^{-\\frac{d}{2}}\\exp{(-\\frac{1}{b}\\sum_{i=1}^d |\\theta_i|)} = (2b)^{-\\frac{d}{2}}\\exp{(-\\frac{1}{b}||\\theta||_1)}$ the negative loglikihood will gives us\n",
    "\n",
    "$$ - log p(\\theta) = \\frac{d}{2}log(2b) +\\frac{1}{b}||\\theta||_1$$\n",
    "\n",
    "So combining it with 3a, and taking out all constant that are independent of $\\theta$\n",
    "\n",
    "$$\\theta_{MAP} = - \\arg \\min_\\theta [ -\\log{p(y|x,\\theta)} - \\log{p(\\theta)}] = \\arg \\min_\\theta \\frac{1}{2\\sigma^2}||Y-X\\theta||_2^2+ \\frac{1}{b}||\\theta||_1$$\n",
    "\n",
    "Changing it in terms of loss function \n",
    "\n",
    "$$J(\\theta) = ||Y-X\\theta||_2^2 +\\gamma||\\theta||_1$$\n",
    "\n",
    "where $\\gamma = \\frac{2\\sigma^2}{b}$"
   ]
  },
  {
   "cell_type": "code",
   "execution_count": 1,
   "metadata": {},
   "outputs": [
    {
     "data": {
      "application/javascript": [
       "window.require && require([\"base/js/namespace\"],function(Jupyter){Jupyter.notebook.save_checkpoint()})"
      ],
      "text/plain": [
       "<IPython.core.display.Javascript object>"
      ]
     },
     "metadata": {},
     "output_type": "display_data"
    },
    {
     "name": "stdout",
     "output_type": "stream",
     "text": [
      "[jovian] Committed successfully! https://jovian.ai/weihong15/question-3-919bf\u001b[0m\n"
     ]
    },
    {
     "data": {
      "text/plain": [
       "'https://jovian.ai/weihong15/question-3-919bf'"
      ]
     },
     "execution_count": 1,
     "metadata": {},
     "output_type": "execute_result"
    }
   ],
   "source": [
    "import jovian\n",
    "jovian.commit()"
   ]
  },
  {
   "cell_type": "code",
   "execution_count": null,
   "metadata": {},
   "outputs": [],
   "source": []
  }
 ],
 "metadata": {
  "kernelspec": {
   "display_name": "Python 3",
   "language": "python",
   "name": "python3"
  },
  "language_info": {
   "codemirror_mode": {
    "name": "ipython",
    "version": 3
   },
   "file_extension": ".py",
   "mimetype": "text/x-python",
   "name": "python",
   "nbconvert_exporter": "python",
   "pygments_lexer": "ipython3",
   "version": "3.8.5"
  },
  "toc": {
   "base_numbering": 1,
   "nav_menu": {},
   "number_sections": true,
   "sideBar": true,
   "skip_h1_title": false,
   "title_cell": "Table of Contents",
   "title_sidebar": "Contents",
   "toc_cell": false,
   "toc_position": {},
   "toc_section_display": true,
   "toc_window_display": false
  }
 },
 "nbformat": 4,
 "nbformat_minor": 4
}
