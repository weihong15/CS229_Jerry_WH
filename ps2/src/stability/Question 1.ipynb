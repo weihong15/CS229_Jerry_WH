{
 "cells": [
  {
   "cell_type": "markdown",
   "metadata": {},
   "source": [
    "## 1a\n",
    "\n",
    "Dataset A converge in 30388 iterations but Dataset B did not converge after 10 million iterations"
   ]
  },
  {
   "cell_type": "markdown",
   "metadata": {},
   "source": [
    "## 1b \n",
    "We first do a plot of dataset A and dataset B"
   ]
  },
  {
   "cell_type": "code",
   "execution_count": 1,
   "metadata": {},
   "outputs": [],
   "source": [
    "import util\n",
    "Xa, Ya = util.load_csv('ds1_a.csv', add_intercept=False)\n",
    "Xb, Yb = util.load_csv('ds1_b.csv', add_intercept=False)"
   ]
  },
  {
   "cell_type": "code",
   "execution_count": 2,
   "metadata": {},
   "outputs": [
    {
     "data": {
      "image/png": "[encoded data removed]",
      "text/plain": [
       "<Figure size 432x288 with 1 Axes>"
      ]
     },
     "metadata": {
      "needs_background": "light"
     },
     "output_type": "display_data"
    }
   ],
   "source": [
    "import matplotlib.pyplot as plt\n",
    "\n",
    "util.plot_points(Xa,Ya,\"dataset A\")"
   ]
  },
  {
   "cell_type": "code",
   "execution_count": 4,
   "metadata": {},
   "outputs": [
    {
     "data": {
      "image/png": "[encoded data removed]",
      "text/plain": [
       "<Figure size 432x288 with 1 Axes>"
      ]
     },
     "metadata": {
      "needs_background": "light"
     },
     "output_type": "display_data"
    }
   ],
   "source": [
    "util.plot_points(Xb,Yb,\"Dataset B\")"
   ]
  },
  {
   "cell_type": "markdown",
   "metadata": {},
   "source": [
    "We can see that Dataset A is not linearly seperable but dataset B is linearly seperable. The problem with being linearly seperable in logistic regression is that there are infinitely many solutions for $\\theta$ s.t. $ y\\cdot \\theta^T \\cdot x>0$\n",
    "\n",
    "Consider a positive training example( y = 1). The larger $\\theta^Tx$ is, the larger the likelihood $h_\\theta(x)=p(y=1|x;\\theta)$ is. So $argmax_\\theta p(y=1|x;\\theta)$ does not have a $\\theta$ solution. "
   ]
  },
  {
   "cell_type": "markdown",
   "metadata": {},
   "source": [
    "## 1c\n",
    "### i\n",
    "No. Using a different learning rate will not help, as there's no optimal $\\theta$ as mentioned above. \n",
    "\n",
    "### ii\n",
    "Yes. Decreasing the learning rate over time, will cause the change in $\\theta$ to be smaller and smaller. This will result in $$||\\theta_i - \\theta_{i+1}||_2$$ to be smaller over time. till it reaches the threshold of 1e-15\n",
    "\n",
    "### iii\n",
    "No. The dataset will still be linearly seperable. \n",
    "\n",
    "### iv\n",
    "Yes, In fact I think this is the best solution among all suggested. Adding a $L_2$ regularization will penalize large values of $\\theta$, preventing them from being arbitrary large.\n",
    "\n",
    "### v\n",
    "Yes, Adding noise will highly likely cause the dataset to be not linearly seperable."
   ]
  },
  {
   "cell_type": "markdown",
   "metadata": {},
   "source": [
    "## 1d\n",
    "SVM are not vulnerable to datasets like B. We first note that, since function $g$ is a step function. Asd $g(w^Tx+b)=g(2w^Tx+2b)$ multiplying w and b by a scalar factor does not improve the objective function. i.e. the scaling of parameters is independent of the objective function.\n"
   ]
  },
  {
   "cell_type": "code",
   "execution_count": 5,
   "metadata": {},
   "outputs": [
    {
     "data": {
      "application/javascript": [
       "window.require && require([\"base/js/namespace\"],function(Jupyter){Jupyter.notebook.save_checkpoint()})"
      ],
      "text/plain": [
       "<IPython.core.display.Javascript object>"
      ]
     },
     "metadata": {},
     "output_type": "display_data"
    },
    {
     "name": "stdout",
     "output_type": "stream",
     "text": [
      "[jovian] Committed successfully! https://jovian.ai/weihong15/question-1-952e1\u001b[0m\n"
     ]
    },
    {
     "data": {
      "text/plain": [
       "'https://jovian.ai/weihong15/question-1-952e1'"
      ]
     },
     "execution_count": 5,
     "metadata": {},
     "output_type": "execute_result"
    }
   ],
   "source": [
    "import jovian\n",
    "jovian.commit()"
   ]
  },
  {
   "cell_type": "code",
   "execution_count": null,
   "metadata": {},
   "outputs": [],
   "source": []
  }
 ],
 "metadata": {
  "kernelspec": {
   "display_name": "Python 3",
   "language": "python",
   "name": "python3"
  },
  "language_info": {
   "codemirror_mode": {
    "name": "ipython",
    "version": 3
   },
   "file_extension": ".py",
   "mimetype": "text/x-python",
   "name": "python",
   "nbconvert_exporter": "python",
   "pygments_lexer": "ipython3",
   "version": "3.8.5"
  },
  "toc": {
   "base_numbering": 1,
   "nav_menu": {},
   "number_sections": true,
   "sideBar": true,
   "skip_h1_title": false,
   "title_cell": "Table of Contents",
   "title_sidebar": "Contents",
   "toc_cell": false,
   "toc_position": {},
   "toc_section_display": true,
   "toc_window_display": false
  }
 },
 "nbformat": 4,
 "nbformat_minor": 4
}
