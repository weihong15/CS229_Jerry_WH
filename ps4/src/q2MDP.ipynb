{
 "cells": [
  {
   "cell_type": "markdown",
   "metadata": {},
   "source": [
    "## question 2\n",
    "\n",
    "### question 2a\n",
    "\n",
    "We first note that $|max_a f(a) -max_a g(a)|\\leq max_a|f(a)-g(a)|$. let $b = argmax_a f(a)$. We will have \n",
    "\n",
    "$$max_a|f(a)-g(a)| \\geq |f(b)-g(b)| \\geq f(b)-g(b) \\geq  f(b)- max_a g(a) = max_a f(a)- max_a g(a)$$. \n",
    "\n",
    "by symmetry, we will have also, $max_a|f(a)-g(a)|>max_a g(a)- max_a f(a)$, so $|max_a f(a) -max_a g(a)|\\leq max_a|f(a)-g(a)|$. \n",
    "\n",
    "To prove the contraction, \n",
    "\n",
    "\\begin{align}\n",
    "||B(V_1) - B(V_2)||_\\infty & = \\max_{s\\in S} |V_1'(s) - V_2'(s)| \\\\\n",
    "& = \\max_{s\\in S}|\\gamma \\max_{a\\in A} \\sum_{s'\\in S} P_{sa}(s')V_1(s') - \\gamma \\max_{a\\in A} \\sum_{s'\\in S} P_{sa}(s')V_2(s')|\\\\\n",
    "& \\leq \\gamma \\max_{s\\in S} \\max_{a\\in A} |\\sum_{s'\\in S} P_{sa}(s')V_1(s')- P_{sa}(s')V_2(s') \\quad \\text{due to theorem we proven above}\\\\\n",
    "& \\leq \\gamma \\max_{s\\in S} \\max_{a\\in A} \\sum_{s'\\in S} P_{sa}|V_1(s') - V_2(s')| \\quad \\text{triangular inequality and probability is always positive}\\\\\n",
    "& \\leq \\gamma \\max_{s\\in S} \\max_{a\\in A}\\max_{s'\\in S} |V_1(s') - V_2(s')| \\quad \\text{weighted sum of probability is less than the maximum value}\\\\\n",
    "& = \\gamma||V_1 - V_2||_\\infty. \\quad \\text{expression is independent of s and a, definition of $\\infty$ norm}\n",
    "\\end{align}"
   ]
  },
  {
   "cell_type": "markdown",
   "metadata": {},
   "source": [
    "## 2b\n",
    "Given there's at least one fixed point, prove that it's unique.\n",
    "\n",
    "Assume(for a contradiction) that there's two distinct fixed point, $V_1$ and $V_2$, where $V_1 \\neq V_2$. Since they are both fixed points, we have $B(V_1) = B_1$ and $B(V_2) = V_2$. so,\n",
    "\n",
    "\n",
    "$$ ||B(V_1) - B(V_2)||_\\infty = ||V_1 - V_2||_\\infty $$\n",
    "\n",
    "but in 2a, we have proven that $||B(V_1) - B(V_2)||_\\infty \\leq \\gamma||V_1 - V_2||_\\infty <||V_1 - V_2||_\\infty$, because $\\gamma$ is strictly less than 1.\n",
    "\n",
    "We can't have both $ ||B(V_1) - B(V_2)||_\\infty = ||V_1 - V_2||_\\infty $ and $||B(V_1) - B(V_2)||_\\infty<||V_1 - V_2||_\\infty$. So there's a contradiction. We can say for sure that $V_1 = V_2$"
   ]
  },
  {
   "cell_type": "code",
   "execution_count": 1,
   "metadata": {},
   "outputs": [
    {
     "data": {
      "application/javascript": [
       "window.require && require([\"base/js/namespace\"],function(Jupyter){Jupyter.notebook.save_checkpoint()})"
      ],
      "text/plain": [
       "<IPython.core.display.Javascript object>"
      ]
     },
     "metadata": {},
     "output_type": "display_data"
    },
    {
     "name": "stdout",
     "output_type": "stream",
     "text": [
      "[jovian] Committed successfully! https://jovian.ai/weihong15/q2mdp\u001b[0m\n"
     ]
    },
    {
     "data": {
      "text/plain": [
       "'https://jovian.ai/weihong15/q2mdp'"
      ]
     },
     "execution_count": 1,
     "metadata": {},
     "output_type": "execute_result"
    }
   ],
   "source": [
    "import jovian\n",
    "jovian.commit()"
   ]
  }
 ],
 "metadata": {
  "kernelspec": {
   "display_name": "Python 3",
   "language": "python",
   "name": "python3"
  },
  "language_info": {
   "codemirror_mode": {
    "name": "ipython",
    "version": 3
   },
   "file_extension": ".py",
   "mimetype": "text/x-python",
   "name": "python",
   "nbconvert_exporter": "python",
   "pygments_lexer": "ipython3",
   "version": "3.8.5"
  },
  "toc": {
   "base_numbering": 1,
   "nav_menu": {},
   "number_sections": true,
   "sideBar": true,
   "skip_h1_title": false,
   "title_cell": "Table of Contents",
   "title_sidebar": "Contents",
   "toc_cell": false,
   "toc_position": {},
   "toc_section_display": true,
   "toc_window_display": false
  }
 },
 "nbformat": 4,
 "nbformat_minor": 4
}
