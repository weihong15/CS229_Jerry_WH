{
 "cells": [
  {
   "cell_type": "markdown",
   "metadata": {},
   "source": [
    "# Question 1: ICA\n",
    "\n",
    "## Q1a\n",
    "\n",
    "Since g is defined that the cdf, g' will be the pdf. Using the formula for PDF for normal distribution, we will get\n",
    "\n",
    "$$\\ell(W) = \\sum_{i=1}^n\\left(\\log|W| + \\sum_{j=1}^d \\log g'(w_j^Tx^{(i)})\\right)= n \\log |W| -\\frac{1}{2}\\sum_{i=1}^n\\sum_{j=1}^d [\\log (2\\pi) + (w_j^Tx^{(i)})^2]$$ \n",
    "\n",
    "We will try to simplify the most right term. we define $f:=\\frac{1}{2}\\sum_{i=1}^n\\sum_{j=1}^d (w_j^Tx^{(i)})^2$. Then\n",
    "\n",
    "$$f:=\\frac{1}{2}\\sum_{i=1}^n\\sum_{j=1}^d (w_j^Tx^{(i)})^2 = \\frac{1}{2}\\sum_{j=1}^d ||Xw_j||_2^2$$\n",
    "\n",
    "Our goal is to find $\\nabla_W \\ell(W)$. We will first find $\\nabla_{w_j} f$ and use this intermediatary result to find the find result. \n",
    "\n",
    "$$\\nabla_{w_j} f = X^TXw_j$$\n",
    "\n",
    "So, differentiating f wrt the matrix W\n",
    "\n",
    "$$\\nabla_{W} f = WX^TX$$\n",
    "\n",
    "Finally, equating the first derivative to be 0 gives us\n",
    "\n",
    "$$\\nabla_W \\ell(W) = \\frac{n}{|W|} |W|(W^{-1})^T - WX^TX = 0$$\n",
    "\n",
    "Putting all W on a single side we will get\n",
    "\n",
    "$$ n (W^{T})^{-1} = WX^TX \\implies (WW^T)^{-1} = \\frac{1}{n}X^TX \\implies WW^T = n (X^TX)^{-1}$$\n",
    "\n",
    "The above equation implies that any rotation will of a solution will satisfy the above equation. If we let $W^*$ be a solution, let U be a orthogonal matrix(post mulitiplying this matrix gives a rotation geometrically). Then $W^*U$ is also a solution as $W^*U(W^*U)^T = W^*UU^TW^* = WW^T$ (because $U^TU = I$). so we have more solutions."
   ]
  },
  {
   "cell_type": "markdown",
   "metadata": {},
   "source": [
    "## 1b\n",
    "\n",
    "$$\\ell(W) = \\log|W| + \\sum_{j=1}^d \\log g'(w_j^Tx^{(i)})= \\log |W| -\\sum_{j=1}^d [\\log 2 + |w_j^Tx^{(i)}|]$$\n",
    "\n",
    "Note that $ \\sum_{j=1}^d |w_j^Tx^{(i)}| = ||Wx^{(i)}||_1$, (where $||\\cdot||_1$ is the $L^1$ norm), then\n",
    "\n",
    "$$\\nabla_{W} \\ell(W) = (W^{-1})^T - sgn(Wx^{(i)})x^{(i)T}$$\n",
    "\n",
    "where the signum(sgn) function is applied element wise to the vector. The definition of sgn function can be found here. https://en.wikipedia.org/wiki/Sign_function\n",
    "\n",
    "the update rule is:\n",
    "\n",
    "$$ W:= W +\\alpha\\left( (W^{-1})^T - sgn(Wx^{(i)})x^{(i)T} \\right)$$"
   ]
  },
  {
   "cell_type": "markdown",
   "metadata": {},
   "source": [
    "## 1c"
   ]
  },
  {
   "cell_type": "code",
   "execution_count": 9,
   "metadata": {},
   "outputs": [
    {
     "name": "stdout",
     "output_type": "stream",
     "text": [
      "(53442, 5)\n",
      "Separating tracks ...\n",
      "0.1\n",
      "0.1\n",
      "0.1\n",
      "0.05\n",
      "0.05\n",
      "0.05\n",
      "0.02\n",
      "0.02\n",
      "0.01\n",
      "0.01\n",
      "0.005\n",
      "0.005\n",
      "0.002\n",
      "0.002\n",
      "0.001\n",
      "0.001\n",
      "[[ 52.83501305  16.79587786  19.94119385 -10.19845198 -20.89774072]\n",
      " [ -9.93247207  -0.97777678  -4.67852094   8.04445825   1.79000083]\n",
      " [  8.31003096  -7.47714642  19.31416495  15.17477417 -14.32579771]\n",
      " [-14.66678072 -26.64408731   2.44055006  21.38152096  -8.42104589]\n",
      " [ -0.26913018  18.37446049   9.31288042   9.10272048  30.59461071]]\n"
     ]
    }
   ],
   "source": [
    "import ica\n",
    "ica.main()"
   ]
  },
  {
   "cell_type": "code",
   "execution_count": 10,
   "metadata": {},
   "outputs": [
    {
     "data": {
      "application/javascript": [
       "window.require && require([\"base/js/namespace\"],function(Jupyter){Jupyter.notebook.save_checkpoint()})"
      ],
      "text/plain": [
       "<IPython.core.display.Javascript object>"
      ]
     },
     "metadata": {},
     "output_type": "display_data"
    },
    {
     "name": "stdout",
     "output_type": "stream",
     "text": [
      "[jovian] Committed successfully! https://jovian.ai/weihong15/q1ica\u001b[0m\n"
     ]
    },
    {
     "data": {
      "text/plain": [
       "'https://jovian.ai/weihong15/q1ica'"
      ]
     },
     "execution_count": 10,
     "metadata": {},
     "output_type": "execute_result"
    }
   ],
   "source": [
    "import jovian\n",
    "jovian.commit()"
   ]
  },
  {
   "cell_type": "code",
   "execution_count": null,
   "metadata": {},
   "outputs": [],
   "source": []
  }
 ],
 "metadata": {
  "kernelspec": {
   "display_name": "Python 3",
   "language": "python",
   "name": "python3"
  },
  "language_info": {
   "codemirror_mode": {
    "name": "ipython",
    "version": 3
   },
   "file_extension": ".py",
   "mimetype": "text/x-python",
   "name": "python",
   "nbconvert_exporter": "python",
   "pygments_lexer": "ipython3",
   "version": "3.8.5"
  },
  "toc": {
   "base_numbering": 1,
   "nav_menu": {},
   "number_sections": true,
   "sideBar": true,
   "skip_h1_title": false,
   "title_cell": "Table of Contents",
   "title_sidebar": "Contents",
   "toc_cell": false,
   "toc_position": {},
   "toc_section_display": true,
   "toc_window_display": false
  }
 },
 "nbformat": 4,
 "nbformat_minor": 4
}
