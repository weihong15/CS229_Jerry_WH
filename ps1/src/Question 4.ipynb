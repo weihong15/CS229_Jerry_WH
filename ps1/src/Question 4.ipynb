{
 "cells": [
  {
   "cell_type": "markdown",
   "metadata": {},
   "source": [
    "## 4a\n",
    "\n",
    "Note all integrals for question 4 are definite integral on the whole real line.\n",
    "\n",
    "As the integration of a probability distribution is 1\n",
    "$$ \\frac{\\partial}{\\partial\\eta} \\int p(y;\\eta) dy = \\frac{\\partial}{\\partial\\eta} (1) = 0 $$\n",
    "\n",
    "$$ \n",
    "\\begin{align}\n",
    "\\frac{\\partial}{\\partial\\eta} \\int p(y;\\eta) dy & = \\int\\frac{\\partial}{\\partial\\eta}p(y;\\eta) dy\\\\\n",
    "& = \\int (y- \\frac{\\partial}{\\partial\\eta} a(\\eta)) p(y;\\eta) dy\\\\\n",
    "& = \\int y \\cdot p(y;\\eta) - \\frac{\\partial}{\\partial\\eta} a(\\eta)\\int  p(y;\\eta) dy\\\\\n",
    "& = \\mathbb{E}[Y;\\eta] - \\frac{\\partial}{\\partial\\eta} a(\\eta) \\quad \\text{the first term is just the definition of expectation}\\\\\n",
    "& = 0 \\quad \\text{from above}\n",
    "\\end{align}\n",
    "$$\n",
    "\n",
    "$$\\implies \\mathbb{E}[Y; \\eta] = \\frac{\\partial}{\\partial\\eta}a(\\eta)$$"
   ]
  },
  {
   "cell_type": "markdown",
   "metadata": {},
   "source": [
    "## 4b\n",
    "\n",
    "$$ \\frac{\\partial}{\\partial\\eta} \\int y\\cdot p(y;\\eta) dy = \\frac{\\partial^2}{\\partial\\eta^2}a(\\eta)$$\n",
    "\n",
    "The above is using what we have proven in part a\n",
    "\n",
    "So,\n",
    "\n",
    "$$ \n",
    "\\begin{align}\n",
    "\\frac{\\partial}{\\partial\\eta} \\int y\\cdot p(y;\\eta) dy & = \\int \\left(y- \\frac{\\partial}{\\partial\\eta} a(\\eta)\\right) y p(y;\\eta) dy\\\\\n",
    "& = \\int \\left( y^2 \\cdot p(y;\\eta)\\right) dy - \\frac{\\partial}{\\partial\\eta} a(\\eta) \\int y p(y;\\eta) dy\\\\\n",
    "& = \\mathbb{E}[Y^2;\\eta]-(\\mathbb{E}[Y;\\eta])^2 \\quad \\text{from part a $\\mathbb{E}[Y; \\eta] = \\frac{\\partial}{\\partial\\eta}a(\\eta)$} \\\\\n",
    "&=Var [Y;\\eta]\n",
    "\\end{align}\n",
    "$$\n",
    "\n",
    "Combining both parts $Var [Y;\\eta] = \\frac{\\partial^2}{\\partial\\eta^2}a(\\eta)$"
   ]
  },
  {
   "cell_type": "markdown",
   "metadata": {},
   "source": [
    "## 4c\n",
    "$$ \n",
    "\\begin{align}\n",
    "NLL = -l(\\theta) & = - log \\Pi_{i=1}^n p(y^{(i)}\\mid x^{(i)};\\theta) \\\\\n",
    "& = - \\sum_{i=1}^n [log b(y) + \\theta^T x^{(i)} y^{(i)} - a(\\theta^T x^{(i)}) ]\n",
    "\\end{align}\n",
    "$$\n",
    "\n",
    "$$-l'(\\theta) = - \\sum_{i=1}^n [x^{(i)} y^{(i)}-a'(\\theta^T x^{(i)})*x^{(i)}] = \\sum_{i=1}^n [(a'(\\theta^T x^{(i)})- y^{(i)})*x^{(i)}]$$\n",
    "\n",
    "$$-H = \\sum_{i=1}^n a''(\\theta^T x^{(i)})x^{(i)}*x^{(i)T}$$\n",
    "\n",
    "For any vector z\n",
    "\n",
    "$$-z^THz = \\sum_{i=1}^n a''(\\theta^T x^{(i)}) z^Tx^{(i)}*x^{(i)T}z = \\sum_{i=1}^n a''(\\theta^T x^{(i)})||v||_2^2$$\n",
    "\n",
    "the last equality is due to $v=x^{(i)T}z$\n",
    "\n",
    "$$-z^THz \\geq 0 \\quad \\text{As $a''(\\theta^T x^{(i)}) = Var[Y|x:\\theta]\\geq 0$ and $||v||_2^2\\geq 0$}$$"
   ]
  },
  {
   "cell_type": "code",
   "execution_count": 2,
   "metadata": {},
   "outputs": [
    {
     "data": {
      "application/javascript": [
       "window.require && require([\"base/js/namespace\"],function(Jupyter){Jupyter.notebook.save_checkpoint()})"
      ],
      "text/plain": [
       "<IPython.core.display.Javascript object>"
      ]
     },
     "metadata": {},
     "output_type": "display_data"
    },
    {
     "name": "stdout",
     "output_type": "stream",
     "text": [
      "[jovian] Committed successfully! https://jovian.ai/weihong15/question-4\u001b[0m\n"
     ]
    },
    {
     "data": {
      "text/plain": [
       "'https://jovian.ai/weihong15/question-4'"
      ]
     },
     "execution_count": 2,
     "metadata": {},
     "output_type": "execute_result"
    }
   ],
   "source": [
    "import jovian\n",
    "jovian.commit()"
   ]
  },
  {
   "cell_type": "code",
   "execution_count": null,
   "metadata": {},
   "outputs": [],
   "source": []
  }
 ],
 "metadata": {
  "kernelspec": {
   "display_name": "Python 3",
   "language": "python",
   "name": "python3"
  },
  "language_info": {
   "codemirror_mode": {
    "name": "ipython",
    "version": 3
   },
   "file_extension": ".py",
   "mimetype": "text/x-python",
   "name": "python",
   "nbconvert_exporter": "python",
   "pygments_lexer": "ipython3",
   "version": "3.8.5"
  },
  "toc": {
   "base_numbering": 1,
   "nav_menu": {},
   "number_sections": true,
   "sideBar": true,
   "skip_h1_title": false,
   "title_cell": "Table of Contents",
   "title_sidebar": "Contents",
   "toc_cell": false,
   "toc_position": {},
   "toc_section_display": true,
   "toc_window_display": false
  }
 },
 "nbformat": 4,
 "nbformat_minor": 4
}
