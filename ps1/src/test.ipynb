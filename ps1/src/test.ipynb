{
 "cells": [
  {
   "cell_type": "markdown",
   "metadata": {},
   "source": [
    "## 2c\n",
    "\n",
    "$$\n",
    "p(t^{(i)}=1\\mid y^{(i)} = 1, x^{(i)}) = \\frac{p(y^{(i)}=1\\mid t^{(i)} = 1, x^{(i)})\\cdot p(t^{(i)}=1\\mid x^{(i)})}{p(y^{(i)}=1\\mid t^{(i)} = 1, x^{(i)})\\cdot p(t^{(i)}=1\\mid x^{(i)})+p(y^{(i)}=1\\mid t^{(i)} = 0, x^{(i)})\\cdot p(t^{(i)}=0\\mid x^{(i)})}\n",
    "$$\n",
    "\n",
    "Since $\\forall  x, ~~ p(y^{(i)} = 1 \\mid t^{(i)}=0, x^{(i)}=x) = 0,$ so the equation above becomes 1 as the numerator is the same as the denominator\n",
    "\n",
    "$$\\frac{p(y^{(i)}=1\\mid t^{(i)} = 1, x^{(i)})\\cdot p(t^{(i)}=1\\mid x^{(i)})}{p(y^{(i)}=1\\mid t^{(i)} = 1, x^{(i)})\\cdot p(t^{(i)}=1\\mid x^{(i)})} = 1 \\implies p(t^{(i)}=1\\mid y^{(i)} = 1, x^{(i)}) =1 $$\n"
   ]
  },
  {
   "cell_type": "code",
   "execution_count": null,
   "metadata": {},
   "outputs": [],
   "source": []
  }
 ],
 "metadata": {
  "kernelspec": {
   "display_name": "Python 3",
   "language": "python",
   "name": "python3"
  },
  "language_info": {
   "codemirror_mode": {
    "name": "ipython",
    "version": 3
   },
   "file_extension": ".py",
   "mimetype": "text/x-python",
   "name": "python",
   "nbconvert_exporter": "python",
   "pygments_lexer": "ipython3",
   "version": "3.8.5"
  },
  "toc": {
   "base_numbering": 1,
   "nav_menu": {},
   "number_sections": true,
   "sideBar": true,
   "skip_h1_title": false,
   "title_cell": "Table of Contents",
   "title_sidebar": "Contents",
   "toc_cell": false,
   "toc_position": {},
   "toc_section_display": true,
   "toc_window_display": false
  }
 },
 "nbformat": 4,
 "nbformat_minor": 4
}
