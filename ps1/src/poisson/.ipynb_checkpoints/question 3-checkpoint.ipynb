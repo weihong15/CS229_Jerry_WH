{
 "cells": [
  {
   "cell_type": "markdown",
   "metadata": {},
   "source": [
    "## 3a\n",
    "\n",
    "$$p(y;\\lambda) = \\frac{e^{-\\lambda}\\lambda^y}{y!} = \\frac{1}{y!}\\exp (-\\lambda +y\\log(\\lambda)) = b(y)\\exp(\\eta^TT(y)-a(\\eta))$$\n",
    "\n",
    "where $b(y)=\\frac{1}{y!}, \\eta = \\log \\lambda, T(y)=y, a(\\eta) = e^\\eta$"
   ]
  },
  {
   "cell_type": "markdown",
   "metadata": {},
   "source": [
    "## 3b\n",
    "\n",
    "$$ h_\\theta(x) = E[y\\mid x;\\theta] = \\lambda = e^\\eta = e^{\\theta^Tx}$$\n",
    "\n",
    "so the canonical response function for the poisson is the exponential function, $g(x)=e^x$"
   ]
  },
  {
   "cell_type": "markdown",
   "metadata": {},
   "source": [
    "## 3c\n",
    "\n",
    "$$l(\\theta) = \\log \\Pi_{i=1}^n p(y^{(i)}\\mid x^{(i)}) =\\sum_{i=1}^n \\log \\frac{1}{y!} +\\theta^Tx^{(i)}\\cdot y^{(i)}-\\exp(\\theta^Tx^{(i)})$$\n",
    "\n",
    "$$l'(\\theta) = \\sum_{i=1}^n x^{(i)}\\cdot y^{(i)}-x^{(i)}\\exp(\\theta^Tx^{(i)}) = \\sum_{i=1}^n (y^{(i)}-\\exp(\\theta^Tx^{(i)}))x^{(i)}$$\n",
    "so the update rule becomes\n",
    "\n",
    "$$\\theta := \\theta + \\alpha \\sum_{i=1}^n (y^{(i)}-\\exp(\\theta^Tx^{(i)}))x^{(i)}$$"
   ]
  },
  {
   "cell_type": "code",
   "execution_count": 1,
   "metadata": {},
   "outputs": [
    {
     "data": {
      "image/png": "[encoded data removed]",
      "text/plain": [
       "<Figure size 432x288 with 1 Axes>"
      ]
     },
     "metadata": {
      "needs_background": "light"
     },
     "output_type": "display_data"
    }
   ],
   "source": [
    "import poisson\n",
    "poisson.main(lr=1e-5,\n",
    "        train_path='train.csv',\n",
    "        eval_path='valid.csv',\n",
    "        save_path='poisson_pred.txt')"
   ]
  },
  {
   "cell_type": "code",
   "execution_count": null,
   "metadata": {},
   "outputs": [
    {
     "data": {
      "application/javascript": [
       "window.require && require([\"base/js/namespace\"],function(Jupyter){Jupyter.notebook.save_checkpoint()})"
      ],
      "text/plain": [
       "<IPython.core.display.Javascript object>"
      ]
     },
     "metadata": {},
     "output_type": "display_data"
    }
   ],
   "source": [
    "import jovian\n",
    "jovian.commit()"
   ]
  },
  {
   "cell_type": "code",
   "execution_count": null,
   "metadata": {},
   "outputs": [],
   "source": []
  }
 ],
 "metadata": {
  "kernelspec": {
   "display_name": "Python 3",
   "language": "python",
   "name": "python3"
  },
  "language_info": {
   "codemirror_mode": {
    "name": "ipython",
    "version": 3
   },
   "file_extension": ".py",
   "mimetype": "text/x-python",
   "name": "python",
   "nbconvert_exporter": "python",
   "pygments_lexer": "ipython3",
   "version": "3.8.5"
  },
  "toc": {
   "base_numbering": 1,
   "nav_menu": {},
   "number_sections": true,
   "sideBar": true,
   "skip_h1_title": false,
   "title_cell": "Table of Contents",
   "title_sidebar": "Contents",
   "toc_cell": false,
   "toc_position": {},
   "toc_section_display": true,
   "toc_window_display": false
  }
 },
 "nbformat": 4,
 "nbformat_minor": 4
}
